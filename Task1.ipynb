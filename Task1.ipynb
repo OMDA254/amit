{
 "cells": [
  {
   "cell_type": "code",
   "execution_count": 9,
   "id": "9a3d59d5",
   "metadata": {},
   "outputs": [
    {
     "name": "stdout",
     "output_type": "stream",
     "text": [
      "enter First Mass   : 6.0e24\n",
      "enter second mass   : 7.34e22\n",
      "enter Gravity   : 6.67e-11\n",
      "enter distance   : 3.84e8\n",
      "Force = G*M*m/r*r = 6.0e24*7.34e22*6.67e-11/3.84e8*3.84e8 =  1.9920979817708333e+20\n"
     ]
    }
   ],
   "source": [
    "First_Mass= input(\"enter First Mass   : \")\n",
    "Second_mass= input(\"enter second mass   : \")\n",
    "Gravity= input (\"enter Gravity   : \")\n",
    "r= input(\"enter distance   : \")\n",
    "F = float(First_Mass)*float(Second_mass)*float(Gravity)/float(r)**2\n",
    "print(f\"Force = G*M*m/r*r = {First_Mass}*{Second_mass}*{Gravity}/{r}*{r} = \", float(F))"
   ]
  },
  {
   "cell_type": "code",
   "execution_count": null,
   "id": "fbed1805",
   "metadata": {},
   "outputs": [],
   "source": []
  },
  {
   "cell_type": "code",
   "execution_count": null,
   "id": "02861279",
   "metadata": {},
   "outputs": [],
   "source": []
  }
 ],
 "metadata": {
  "kernelspec": {
   "display_name": "Python 3 (ipykernel)",
   "language": "python",
   "name": "python3"
  },
  "language_info": {
   "codemirror_mode": {
    "name": "ipython",
    "version": 3
   },
   "file_extension": ".py",
   "mimetype": "text/x-python",
   "name": "python",
   "nbconvert_exporter": "python",
   "pygments_lexer": "ipython3",
   "version": "3.10.9"
  }
 },
 "nbformat": 4,
 "nbformat_minor": 5
}
